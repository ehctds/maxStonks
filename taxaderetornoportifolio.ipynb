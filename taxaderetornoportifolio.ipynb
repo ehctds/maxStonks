{
 "cells": [
  {
   "cell_type": "code",
   "execution_count": 2,
   "id": "83ee1eb1-f83a-434d-bda3-4b2c9f9e0a18",
   "metadata": {},
   "outputs": [],
   "source": [
    "import numpy as np\n",
    "import pandas as pd\n",
    "from pandas_datareader import data as wb\n",
    "import matplotlib.pyplot as plt"
   ]
  },
  {
   "cell_type": "code",
   "execution_count": 5,
   "id": "327527e7-f829-4630-a9f4-20039d386936",
   "metadata": {},
   "outputs": [],
   "source": [
    "tickers = ['PG', 'MSFT','F', 'GE']\n",
    "my_data= pd.DataFrame()\n",
    "for t in tickers:\n",
    "    my_data[t]= wb.DataReader(t, data_source='yahoo', start= '1995-1-1')['Adj Close']"
   ]
  },
  {
   "cell_type": "code",
   "execution_count": 6,
   "id": "4c790404-1393-4c64-8096-1e1c5945a231",
   "metadata": {},
   "outputs": [
    {
     "name": "stdout",
     "output_type": "stream",
     "text": [
      "<class 'pandas.core.frame.DataFrame'>\n",
      "DatetimeIndex: 6832 entries, 1995-01-03 to 2022-02-17\n",
      "Data columns (total 4 columns):\n",
      " #   Column  Non-Null Count  Dtype  \n",
      "---  ------  --------------  -----  \n",
      " 0   PG      6832 non-null   float64\n",
      " 1   MSFT    6832 non-null   float64\n",
      " 2   F       6832 non-null   float64\n",
      " 3   GE      6832 non-null   float64\n",
      "dtypes: float64(4)\n",
      "memory usage: 266.9 KB\n"
     ]
    }
   ],
   "source": [
    "my_data.info()"
   ]
  },
  {
   "cell_type": "code",
   "execution_count": 7,
   "id": "5d140e18-13f6-4a96-b154-ea4d280b0fcd",
   "metadata": {},
   "outputs": [
    {
     "data": {
      "text/html": [
       "<div>\n",
       "<style scoped>\n",
       "    .dataframe tbody tr th:only-of-type {\n",
       "        vertical-align: middle;\n",
       "    }\n",
       "\n",
       "    .dataframe tbody tr th {\n",
       "        vertical-align: top;\n",
       "    }\n",
       "\n",
       "    .dataframe thead th {\n",
       "        text-align: right;\n",
       "    }\n",
       "</style>\n",
       "<table border=\"1\" class=\"dataframe\">\n",
       "  <thead>\n",
       "    <tr style=\"text-align: right;\">\n",
       "      <th></th>\n",
       "      <th>PG</th>\n",
       "      <th>MSFT</th>\n",
       "      <th>F</th>\n",
       "      <th>GE</th>\n",
       "    </tr>\n",
       "    <tr>\n",
       "      <th>Date</th>\n",
       "      <th></th>\n",
       "      <th></th>\n",
       "      <th></th>\n",
       "      <th></th>\n",
       "    </tr>\n",
       "  </thead>\n",
       "  <tbody>\n",
       "    <tr>\n",
       "      <th>1995-01-03</th>\n",
       "      <td>7.971125</td>\n",
       "      <td>2.369954</td>\n",
       "      <td>4.335944</td>\n",
       "      <td>32.877308</td>\n",
       "    </tr>\n",
       "    <tr>\n",
       "      <th>1995-01-04</th>\n",
       "      <td>7.907223</td>\n",
       "      <td>2.387182</td>\n",
       "      <td>4.452607</td>\n",
       "      <td>32.877308</td>\n",
       "    </tr>\n",
       "    <tr>\n",
       "      <th>1995-01-05</th>\n",
       "      <td>7.795411</td>\n",
       "      <td>2.347804</td>\n",
       "      <td>4.413718</td>\n",
       "      <td>32.957886</td>\n",
       "    </tr>\n",
       "    <tr>\n",
       "      <th>1995-01-06</th>\n",
       "      <td>7.811379</td>\n",
       "      <td>2.387182</td>\n",
       "      <td>4.413718</td>\n",
       "      <td>32.796734</td>\n",
       "    </tr>\n",
       "    <tr>\n",
       "      <th>1995-01-09</th>\n",
       "      <td>7.779431</td>\n",
       "      <td>2.372415</td>\n",
       "      <td>4.491494</td>\n",
       "      <td>32.474407</td>\n",
       "    </tr>\n",
       "  </tbody>\n",
       "</table>\n",
       "</div>"
      ],
      "text/plain": [
       "                  PG      MSFT         F         GE\n",
       "Date                                               \n",
       "1995-01-03  7.971125  2.369954  4.335944  32.877308\n",
       "1995-01-04  7.907223  2.387182  4.452607  32.877308\n",
       "1995-01-05  7.795411  2.347804  4.413718  32.957886\n",
       "1995-01-06  7.811379  2.387182  4.413718  32.796734\n",
       "1995-01-09  7.779431  2.372415  4.491494  32.474407"
      ]
     },
     "execution_count": 7,
     "metadata": {},
     "output_type": "execute_result"
    }
   ],
   "source": [
    "my_data.head()"
   ]
  },
  {
   "cell_type": "code",
   "execution_count": 8,
   "id": "8ac9832f-3806-4d33-9c85-15854d29cc45",
   "metadata": {},
   "outputs": [
    {
     "data": {
      "text/html": [
       "<div>\n",
       "<style scoped>\n",
       "    .dataframe tbody tr th:only-of-type {\n",
       "        vertical-align: middle;\n",
       "    }\n",
       "\n",
       "    .dataframe tbody tr th {\n",
       "        vertical-align: top;\n",
       "    }\n",
       "\n",
       "    .dataframe thead th {\n",
       "        text-align: right;\n",
       "    }\n",
       "</style>\n",
       "<table border=\"1\" class=\"dataframe\">\n",
       "  <thead>\n",
       "    <tr style=\"text-align: right;\">\n",
       "      <th></th>\n",
       "      <th>PG</th>\n",
       "      <th>MSFT</th>\n",
       "      <th>F</th>\n",
       "      <th>GE</th>\n",
       "    </tr>\n",
       "    <tr>\n",
       "      <th>Date</th>\n",
       "      <th></th>\n",
       "      <th></th>\n",
       "      <th></th>\n",
       "      <th></th>\n",
       "    </tr>\n",
       "  </thead>\n",
       "  <tbody>\n",
       "    <tr>\n",
       "      <th>2022-02-11</th>\n",
       "      <td>156.289993</td>\n",
       "      <td>294.431213</td>\n",
       "      <td>17.549999</td>\n",
       "      <td>96.830002</td>\n",
       "    </tr>\n",
       "    <tr>\n",
       "      <th>2022-02-14</th>\n",
       "      <td>156.740005</td>\n",
       "      <td>294.391296</td>\n",
       "      <td>17.459999</td>\n",
       "      <td>96.599998</td>\n",
       "    </tr>\n",
       "    <tr>\n",
       "      <th>2022-02-15</th>\n",
       "      <td>156.820007</td>\n",
       "      <td>299.850006</td>\n",
       "      <td>18.080000</td>\n",
       "      <td>100.919998</td>\n",
       "    </tr>\n",
       "    <tr>\n",
       "      <th>2022-02-16</th>\n",
       "      <td>158.009995</td>\n",
       "      <td>299.500000</td>\n",
       "      <td>18.010000</td>\n",
       "      <td>101.410004</td>\n",
       "    </tr>\n",
       "    <tr>\n",
       "      <th>2022-02-17</th>\n",
       "      <td>159.820007</td>\n",
       "      <td>290.730011</td>\n",
       "      <td>17.540001</td>\n",
       "      <td>98.459999</td>\n",
       "    </tr>\n",
       "  </tbody>\n",
       "</table>\n",
       "</div>"
      ],
      "text/plain": [
       "                    PG        MSFT          F          GE\n",
       "Date                                                     \n",
       "2022-02-11  156.289993  294.431213  17.549999   96.830002\n",
       "2022-02-14  156.740005  294.391296  17.459999   96.599998\n",
       "2022-02-15  156.820007  299.850006  18.080000  100.919998\n",
       "2022-02-16  158.009995  299.500000  18.010000  101.410004\n",
       "2022-02-17  159.820007  290.730011  17.540001   98.459999"
      ]
     },
     "execution_count": 8,
     "metadata": {},
     "output_type": "execute_result"
    }
   ],
   "source": [
    "my_data.tail()"
   ]
  },
  {
   "cell_type": "code",
   "execution_count": 10,
   "id": "cc01198d-e92e-4dd6-a734-9d9d1284480d",
   "metadata": {},
   "outputs": [
    {
     "data": {
      "text/plain": [
       "PG       7.971125\n",
       "MSFT     2.369954\n",
       "F        4.335944\n",
       "GE      32.877308\n",
       "Name: 1995-01-03 00:00:00, dtype: float64"
      ]
     },
     "execution_count": 10,
     "metadata": {},
     "output_type": "execute_result"
    }
   ],
   "source": [
    "my_data.iloc[0]"
   ]
  },
  {
   "cell_type": "code",
   "execution_count": 13,
   "id": "b0cf91bc-d7d8-44d0-b075-68fb64613324",
   "metadata": {},
   "outputs": [
    {
     "data": {
      "image/png": "[encoded data removed]",
      "text/plain": [
       "<Figure size 1080x432 with 1 Axes>"
      ]
     },
     "metadata": {
      "needs_background": "light"
     },
     "output_type": "display_data"
    }
   ],
   "source": [
    "(my_data / my_data.iloc[0] * 100).plot(figsize = (15,6));\n",
    "plt.show()"
   ]
  },
  {
   "cell_type": "code",
   "execution_count": 16,
   "id": "e8a50d36-9e86-4a91-a6d4-cf5b67e2fe49",
   "metadata": {},
   "outputs": [
    {
     "data": {
      "text/html": [
       "<div>\n",
       "<style scoped>\n",
       "    .dataframe tbody tr th:only-of-type {\n",
       "        vertical-align: middle;\n",
       "    }\n",
       "\n",
       "    .dataframe tbody tr th {\n",
       "        vertical-align: top;\n",
       "    }\n",
       "\n",
       "    .dataframe thead th {\n",
       "        text-align: right;\n",
       "    }\n",
       "</style>\n",
       "<table border=\"1\" class=\"dataframe\">\n",
       "  <thead>\n",
       "    <tr style=\"text-align: right;\">\n",
       "      <th></th>\n",
       "      <th>PG</th>\n",
       "      <th>MSFT</th>\n",
       "      <th>F</th>\n",
       "      <th>GE</th>\n",
       "    </tr>\n",
       "    <tr>\n",
       "      <th>Date</th>\n",
       "      <th></th>\n",
       "      <th></th>\n",
       "      <th></th>\n",
       "      <th></th>\n",
       "    </tr>\n",
       "  </thead>\n",
       "  <tbody>\n",
       "    <tr>\n",
       "      <th>1995-01-03</th>\n",
       "      <td>NaN</td>\n",
       "      <td>NaN</td>\n",
       "      <td>NaN</td>\n",
       "      <td>NaN</td>\n",
       "    </tr>\n",
       "    <tr>\n",
       "      <th>1995-01-04</th>\n",
       "      <td>-0.008017</td>\n",
       "      <td>0.007269</td>\n",
       "      <td>0.026906</td>\n",
       "      <td>0.000000</td>\n",
       "    </tr>\n",
       "    <tr>\n",
       "      <th>1995-01-05</th>\n",
       "      <td>-0.014140</td>\n",
       "      <td>-0.016495</td>\n",
       "      <td>-0.008734</td>\n",
       "      <td>0.002451</td>\n",
       "    </tr>\n",
       "    <tr>\n",
       "      <th>1995-01-06</th>\n",
       "      <td>0.002048</td>\n",
       "      <td>0.016772</td>\n",
       "      <td>0.000000</td>\n",
       "      <td>-0.004890</td>\n",
       "    </tr>\n",
       "    <tr>\n",
       "      <th>1995-01-09</th>\n",
       "      <td>-0.004090</td>\n",
       "      <td>-0.006186</td>\n",
       "      <td>0.017622</td>\n",
       "      <td>-0.009828</td>\n",
       "    </tr>\n",
       "  </tbody>\n",
       "</table>\n",
       "</div>"
      ],
      "text/plain": [
       "                  PG      MSFT         F        GE\n",
       "Date                                              \n",
       "1995-01-03       NaN       NaN       NaN       NaN\n",
       "1995-01-04 -0.008017  0.007269  0.026906  0.000000\n",
       "1995-01-05 -0.014140 -0.016495 -0.008734  0.002451\n",
       "1995-01-06  0.002048  0.016772  0.000000 -0.004890\n",
       "1995-01-09 -0.004090 -0.006186  0.017622 -0.009828"
      ]
     },
     "execution_count": 16,
     "metadata": {},
     "output_type": "execute_result"
    }
   ],
   "source": [
    "returns= (my_data/ my_data.shift(1)) - 1\n",
    "returns.head()"
   ]
  },
  {
   "cell_type": "code",
   "execution_count": 20,
   "id": "c90be490-d370-48b3-9472-747ccdcbbd9a",
   "metadata": {},
   "outputs": [],
   "source": [
    "weights = np.array([0.25, 0.25, 0.25, 0.25])"
   ]
  },
  {
   "cell_type": "code",
   "execution_count": 22,
   "id": "8634a963-7247-43d8-882c-4badeaa4e87a",
   "metadata": {},
   "outputs": [
    {
     "data": {
      "text/plain": [
       "PG      0.134732\n",
       "MSFT    0.224995\n",
       "F       0.131374\n",
       "GE      0.091442\n",
       "dtype: float64"
      ]
     },
     "execution_count": 22,
     "metadata": {},
     "output_type": "execute_result"
    }
   ],
   "source": [
    "annual_returns= returns.mean(0) * 250\n",
    "annual_returns"
   ]
  },
  {
   "cell_type": "code",
   "execution_count": 23,
   "id": "850878ee-538b-4ef5-bb7a-3882ae4ea5ee",
   "metadata": {},
   "outputs": [
    {
     "data": {
      "text/plain": [
       "0.1456358765289597"
      ]
     },
     "execution_count": 23,
     "metadata": {},
     "output_type": "execute_result"
    }
   ],
   "source": [
    "np.dot(annual_returns, weights)"
   ]
  },
  {
   "cell_type": "code",
   "execution_count": 24,
   "id": "3f46f265-b3b1-4a8c-8db7-b03e34ffc552",
   "metadata": {},
   "outputs": [
    {
     "name": "stdout",
     "output_type": "stream",
     "text": [
      "14.564 %\n"
     ]
    }
   ],
   "source": [
    "portifolio1= str(round(np.dot(annual_returns, weights), 5) * 100)+ ' %'\n",
    "print(portifolio1)"
   ]
  },
  {
   "cell_type": "code",
   "execution_count": 26,
   "id": "2c60fdf6-679e-475c-8ecc-a2bb0f79a99e",
   "metadata": {},
   "outputs": [],
   "source": [
    "weights_2= np.array([0.4,0.4, 0.15, 0.05])"
   ]
  },
  {
   "cell_type": "code",
   "execution_count": 28,
   "id": "e76eda65-9985-4fbe-82a6-c033e82be00c",
   "metadata": {},
   "outputs": [
    {
     "name": "stdout",
     "output_type": "stream",
     "text": [
      "14.564 %\n",
      "16.817 %\n"
     ]
    }
   ],
   "source": [
    "portifolio2= str(round(np.dot(annual_returns, weights_2), 5) * 100)+ ' %'\n",
    "print(portifolio1)\n",
    "print(portifolio2)"
   ]
  }
 ],
 "metadata": {
  "kernelspec": {
   "display_name": "Python 3 (ipykernel)",
   "language": "python",
   "name": "python3"
  },
  "language_info": {
   "codemirror_mode": {
    "name": "ipython",
    "version": 3
   },
   "file_extension": ".py",
   "mimetype": "text/x-python",
   "name": "python",
   "nbconvert_exporter": "python",
   "pygments_lexer": "ipython3",
   "version": "3.9.7"
  }
 },
 "nbformat": 4,
 "nbformat_minor": 5
}
