{
 "cells": [
  {
   "cell_type": "code",
   "execution_count": 4,
   "id": "9c8c879a-4a72-4592-8635-9c9a70db67d4",
   "metadata": {},
   "outputs": [],
   "source": [
    "import numpy as np\n",
    "import pandas as pd\n",
    "from pandas_datareader import data as wb\n",
    "import matplotlib.pyplot as plt"
   ]
  },
  {
   "cell_type": "code",
   "execution_count": 5,
   "id": "a99a887b-cde0-4e23-af9b-ee41a5cc68cb",
   "metadata": {},
   "outputs": [],
   "source": [
    "tickers = ['AAPL', 'MSFT'] \n",
    "sec_data = pd.DataFrame()\n",
    "for t in tickers:\n",
    "    sec_data[t]= wb.DataReader(t, data_source='yahoo', start= '2009-1-1')['Adj Close']"
   ]
  },
  {
   "cell_type": "code",
   "execution_count": 6,
   "id": "94385741-c31a-47d6-9fbd-c8ffde760d6b",
   "metadata": {},
   "outputs": [
    {
     "data": {
      "text/html": [
       "<div>\n",
       "<style scoped>\n",
       "    .dataframe tbody tr th:only-of-type {\n",
       "        vertical-align: middle;\n",
       "    }\n",
       "\n",
       "    .dataframe tbody tr th {\n",
       "        vertical-align: top;\n",
       "    }\n",
       "\n",
       "    .dataframe thead th {\n",
       "        text-align: right;\n",
       "    }\n",
       "</style>\n",
       "<table border=\"1\" class=\"dataframe\">\n",
       "  <thead>\n",
       "    <tr style=\"text-align: right;\">\n",
       "      <th></th>\n",
       "      <th>AAPL</th>\n",
       "      <th>MSFT</th>\n",
       "    </tr>\n",
       "    <tr>\n",
       "      <th>Date</th>\n",
       "      <th></th>\n",
       "      <th></th>\n",
       "    </tr>\n",
       "  </thead>\n",
       "  <tbody>\n",
       "    <tr>\n",
       "      <th>2022-02-14</th>\n",
       "      <td>168.880005</td>\n",
       "      <td>294.391296</td>\n",
       "    </tr>\n",
       "    <tr>\n",
       "      <th>2022-02-15</th>\n",
       "      <td>172.789993</td>\n",
       "      <td>299.850006</td>\n",
       "    </tr>\n",
       "    <tr>\n",
       "      <th>2022-02-16</th>\n",
       "      <td>172.550003</td>\n",
       "      <td>299.500000</td>\n",
       "    </tr>\n",
       "    <tr>\n",
       "      <th>2022-02-17</th>\n",
       "      <td>168.880005</td>\n",
       "      <td>290.730011</td>\n",
       "    </tr>\n",
       "    <tr>\n",
       "      <th>2022-02-18</th>\n",
       "      <td>167.300003</td>\n",
       "      <td>287.929993</td>\n",
       "    </tr>\n",
       "  </tbody>\n",
       "</table>\n",
       "</div>"
      ],
      "text/plain": [
       "                  AAPL        MSFT\n",
       "Date                              \n",
       "2022-02-14  168.880005  294.391296\n",
       "2022-02-15  172.789993  299.850006\n",
       "2022-02-16  172.550003  299.500000\n",
       "2022-02-17  168.880005  290.730011\n",
       "2022-02-18  167.300003  287.929993"
      ]
     },
     "execution_count": 6,
     "metadata": {},
     "output_type": "execute_result"
    }
   ],
   "source": [
    "sec_data.tail()"
   ]
  },
  {
   "cell_type": "code",
   "execution_count": 8,
   "id": "c1f41808-10b4-405d-84f9-4b1a2fdc8b9d",
   "metadata": {},
   "outputs": [],
   "source": [
    "sec_returns = np.log(sec_data/sec_data.shift(1))"
   ]
  },
  {
   "cell_type": "code",
   "execution_count": 9,
   "id": "4729cb33-b7c3-42d1-ade6-d32802796e02",
   "metadata": {},
   "outputs": [
    {
     "data": {
      "text/html": [
       "<div>\n",
       "<style scoped>\n",
       "    .dataframe tbody tr th:only-of-type {\n",
       "        vertical-align: middle;\n",
       "    }\n",
       "\n",
       "    .dataframe tbody tr th {\n",
       "        vertical-align: top;\n",
       "    }\n",
       "\n",
       "    .dataframe thead th {\n",
       "        text-align: right;\n",
       "    }\n",
       "</style>\n",
       "<table border=\"1\" class=\"dataframe\">\n",
       "  <thead>\n",
       "    <tr style=\"text-align: right;\">\n",
       "      <th></th>\n",
       "      <th>AAPL</th>\n",
       "      <th>MSFT</th>\n",
       "    </tr>\n",
       "    <tr>\n",
       "      <th>Date</th>\n",
       "      <th></th>\n",
       "      <th></th>\n",
       "    </tr>\n",
       "  </thead>\n",
       "  <tbody>\n",
       "    <tr>\n",
       "      <th>2009-01-02</th>\n",
       "      <td>NaN</td>\n",
       "      <td>NaN</td>\n",
       "    </tr>\n",
       "    <tr>\n",
       "      <th>2009-01-05</th>\n",
       "      <td>0.041337</td>\n",
       "      <td>0.009302</td>\n",
       "    </tr>\n",
       "    <tr>\n",
       "      <th>2009-01-06</th>\n",
       "      <td>-0.016631</td>\n",
       "      <td>0.011628</td>\n",
       "    </tr>\n",
       "    <tr>\n",
       "      <th>2009-01-07</th>\n",
       "      <td>-0.021846</td>\n",
       "      <td>-0.062101</td>\n",
       "    </tr>\n",
       "    <tr>\n",
       "      <th>2009-01-08</th>\n",
       "      <td>0.018399</td>\n",
       "      <td>0.030787</td>\n",
       "    </tr>\n",
       "    <tr>\n",
       "      <th>...</th>\n",
       "      <td>...</td>\n",
       "      <td>...</td>\n",
       "    </tr>\n",
       "    <tr>\n",
       "      <th>2022-02-14</th>\n",
       "      <td>0.001422</td>\n",
       "      <td>-0.000136</td>\n",
       "    </tr>\n",
       "    <tr>\n",
       "      <th>2022-02-15</th>\n",
       "      <td>0.022889</td>\n",
       "      <td>0.018373</td>\n",
       "    </tr>\n",
       "    <tr>\n",
       "      <th>2022-02-16</th>\n",
       "      <td>-0.001390</td>\n",
       "      <td>-0.001168</td>\n",
       "    </tr>\n",
       "    <tr>\n",
       "      <th>2022-02-17</th>\n",
       "      <td>-0.021499</td>\n",
       "      <td>-0.029719</td>\n",
       "    </tr>\n",
       "    <tr>\n",
       "      <th>2022-02-18</th>\n",
       "      <td>-0.009400</td>\n",
       "      <td>-0.009678</td>\n",
       "    </tr>\n",
       "  </tbody>\n",
       "</table>\n",
       "<p>3307 rows × 2 columns</p>\n",
       "</div>"
      ],
      "text/plain": [
       "                AAPL      MSFT\n",
       "Date                          \n",
       "2009-01-02       NaN       NaN\n",
       "2009-01-05  0.041337  0.009302\n",
       "2009-01-06 -0.016631  0.011628\n",
       "2009-01-07 -0.021846 -0.062101\n",
       "2009-01-08  0.018399  0.030787\n",
       "...              ...       ...\n",
       "2022-02-14  0.001422 -0.000136\n",
       "2022-02-15  0.022889  0.018373\n",
       "2022-02-16 -0.001390 -0.001168\n",
       "2022-02-17 -0.021499 -0.029719\n",
       "2022-02-18 -0.009400 -0.009678\n",
       "\n",
       "[3307 rows x 2 columns]"
      ]
     },
     "execution_count": 9,
     "metadata": {},
     "output_type": "execute_result"
    }
   ],
   "source": [
    "sec_returns"
   ]
  },
  {
   "cell_type": "code",
   "execution_count": 10,
   "id": "e4e52d89-64df-4800-8cd2-305c3836eefb",
   "metadata": {},
   "outputs": [
    {
     "data": {
      "text/plain": [
       "0.0012398818893835932"
      ]
     },
     "execution_count": 10,
     "metadata": {},
     "output_type": "execute_result"
    }
   ],
   "source": [
    "sec_returns['AAPL'].mean()"
   ]
  },
  {
   "cell_type": "code",
   "execution_count": 12,
   "id": "3f6f5d17-2a95-4fdb-a395-b2bca05bd543",
   "metadata": {},
   "outputs": [
    {
     "data": {
      "text/plain": [
       "0.3099704723458983"
      ]
     },
     "execution_count": 12,
     "metadata": {},
     "output_type": "execute_result"
    }
   ],
   "source": [
    "sec_returns['AAPL'].mean()*250"
   ]
  },
  {
   "cell_type": "code",
   "execution_count": 14,
   "id": "bd37da12-cd35-475a-8519-9e9bd36e22ee",
   "metadata": {},
   "outputs": [
    {
     "data": {
      "text/plain": [
       "0.01797044933206793"
      ]
     },
     "execution_count": 14,
     "metadata": {},
     "output_type": "execute_result"
    }
   ],
   "source": [
    "sec_returns['AAPL'].std()"
   ]
  },
  {
   "cell_type": "code",
   "execution_count": 17,
   "id": "81bb6e7f-c960-417a-89c2-8ecd8030e657",
   "metadata": {},
   "outputs": [
    {
     "data": {
      "text/plain": [
       "0.28413775232993094"
      ]
     },
     "execution_count": 17,
     "metadata": {},
     "output_type": "execute_result"
    }
   ],
   "source": [
    "sec_returns['AAPL'].std()*250 ** 0.5"
   ]
  },
  {
   "cell_type": "code",
   "execution_count": 18,
   "id": "d8346c0b-bbcd-43e7-b32e-715e18607f69",
   "metadata": {},
   "outputs": [
    {
     "data": {
      "text/plain": [
       "0.0008875235043338606"
      ]
     },
     "execution_count": 18,
     "metadata": {},
     "output_type": "execute_result"
    }
   ],
   "source": [
    "sec_returns['MSFT'].mean()"
   ]
  },
  {
   "cell_type": "code",
   "execution_count": 19,
   "id": "83fa9cd9-bf90-450f-ae3c-b623f749a413",
   "metadata": {},
   "outputs": [
    {
     "data": {
      "text/plain": [
       "0.22188087608346513"
      ]
     },
     "execution_count": 19,
     "metadata": {},
     "output_type": "execute_result"
    }
   ],
   "source": [
    "sec_returns['MSFT'].mean()*250"
   ]
  },
  {
   "cell_type": "code",
   "execution_count": 20,
   "id": "cc0a53e0-fe58-4969-92ca-787bf2a7dcfb",
   "metadata": {},
   "outputs": [
    {
     "data": {
      "text/plain": [
       "0.016525398462482178"
      ]
     },
     "execution_count": 20,
     "metadata": {},
     "output_type": "execute_result"
    }
   ],
   "source": [
    "sec_returns['MSFT'].std()"
   ]
  },
  {
   "cell_type": "code",
   "execution_count": 21,
   "id": "62bfb58c-b571-420c-affd-fe975f9e25a3",
   "metadata": {},
   "outputs": [
    {
     "data": {
      "text/plain": [
       "0.26128949191644135"
      ]
     },
     "execution_count": 21,
     "metadata": {},
     "output_type": "execute_result"
    }
   ],
   "source": [
    "sec_returns['MSFT'].std()*250 ** 0.5"
   ]
  },
  {
   "cell_type": "code",
   "execution_count": 22,
   "id": "520c1f2e-3d47-4348-ab4e-ae1394f6f678",
   "metadata": {},
   "outputs": [
    {
     "data": {
      "text/plain": [
       "AAPL    0.309970\n",
       "MSFT    0.221881\n",
       "dtype: float64"
      ]
     },
     "execution_count": 22,
     "metadata": {},
     "output_type": "execute_result"
    }
   ],
   "source": [
    "sec_returns[['AAPL','MSFT']].mean()*250"
   ]
  },
  {
   "cell_type": "code",
   "execution_count": 23,
   "id": "68c5295d-7d35-4ac3-a26d-0059e6efaf95",
   "metadata": {},
   "outputs": [
    {
     "data": {
      "text/plain": [
       "AAPL    0.284138\n",
       "MSFT    0.261289\n",
       "dtype: float64"
      ]
     },
     "execution_count": 23,
     "metadata": {},
     "output_type": "execute_result"
    }
   ],
   "source": [
    "sec_returns[['AAPL', 'MSFT']].std()*250 ** 0.5"
   ]
  },
  {
   "cell_type": "code",
   "execution_count": 26,
   "id": "eb4cde39-8497-4b39-87d1-e0eb0eccd294",
   "metadata": {},
   "outputs": [
    {
     "data": {
      "text/plain": [
       "0.0003229370491964208"
      ]
     },
     "execution_count": 26,
     "metadata": {},
     "output_type": "execute_result"
    }
   ],
   "source": [
    "AAPL_var= sec_returns['AAPL'].var()\n",
    "AAPL_var"
   ]
  },
  {
   "cell_type": "code",
   "execution_count": 27,
   "id": "89f253bf-75a6-421b-b299-d1684fa210d9",
   "metadata": {},
   "outputs": [
    {
     "data": {
      "text/plain": [
       "0.00027308879434380834"
      ]
     },
     "execution_count": 27,
     "metadata": {},
     "output_type": "execute_result"
    }
   ],
   "source": [
    "MSFT_var= sec_returns['MSFT'].var()\n",
    "MSFT_var"
   ]
  },
  {
   "cell_type": "code",
   "execution_count": 28,
   "id": "150a0e58-08bb-4fa6-8967-f0024ca8925d",
   "metadata": {},
   "outputs": [
    {
     "data": {
      "text/plain": [
       "0.0807342622991052"
      ]
     },
     "execution_count": 28,
     "metadata": {},
     "output_type": "execute_result"
    }
   ],
   "source": [
    "AAPL_var_anual= sec_returns['AAPL'].var()*250\n",
    "AAPL_var_anual"
   ]
  },
  {
   "cell_type": "code",
   "execution_count": 29,
   "id": "b3fdf2fd-de15-47d9-9d2f-c08a83277f42",
   "metadata": {},
   "outputs": [
    {
     "data": {
      "text/plain": [
       "0.06827219858595208"
      ]
     },
     "execution_count": 29,
     "metadata": {},
     "output_type": "execute_result"
    }
   ],
   "source": [
    "MSFT_var_anual= sec_returns['MSFT'].var()*250\n",
    "MSFT_var_anual"
   ]
  },
  {
   "cell_type": "code",
   "execution_count": 30,
   "id": "69d8b8bc-5e24-4787-aff5-1293b7e15e57",
   "metadata": {},
   "outputs": [
    {
     "data": {
      "text/html": [
       "<div>\n",
       "<style scoped>\n",
       "    .dataframe tbody tr th:only-of-type {\n",
       "        vertical-align: middle;\n",
       "    }\n",
       "\n",
       "    .dataframe tbody tr th {\n",
       "        vertical-align: top;\n",
       "    }\n",
       "\n",
       "    .dataframe thead th {\n",
       "        text-align: right;\n",
       "    }\n",
       "</style>\n",
       "<table border=\"1\" class=\"dataframe\">\n",
       "  <thead>\n",
       "    <tr style=\"text-align: right;\">\n",
       "      <th></th>\n",
       "      <th>AAPL</th>\n",
       "      <th>MSFT</th>\n",
       "    </tr>\n",
       "  </thead>\n",
       "  <tbody>\n",
       "    <tr>\n",
       "      <th>AAPL</th>\n",
       "      <td>0.000323</td>\n",
       "      <td>0.000163</td>\n",
       "    </tr>\n",
       "    <tr>\n",
       "      <th>MSFT</th>\n",
       "      <td>0.000163</td>\n",
       "      <td>0.000273</td>\n",
       "    </tr>\n",
       "  </tbody>\n",
       "</table>\n",
       "</div>"
      ],
      "text/plain": [
       "          AAPL      MSFT\n",
       "AAPL  0.000323  0.000163\n",
       "MSFT  0.000163  0.000273"
      ]
     },
     "execution_count": 30,
     "metadata": {},
     "output_type": "execute_result"
    }
   ],
   "source": [
    "cov_matrix = sec_returns.cov()\n",
    "cov_matrix"
   ]
  },
  {
   "cell_type": "code",
   "execution_count": 31,
   "id": "d9eec96b-7b45-4d98-861e-54f11b4f7d0e",
   "metadata": {},
   "outputs": [
    {
     "data": {
      "text/html": [
       "<div>\n",
       "<style scoped>\n",
       "    .dataframe tbody tr th:only-of-type {\n",
       "        vertical-align: middle;\n",
       "    }\n",
       "\n",
       "    .dataframe tbody tr th {\n",
       "        vertical-align: top;\n",
       "    }\n",
       "\n",
       "    .dataframe thead th {\n",
       "        text-align: right;\n",
       "    }\n",
       "</style>\n",
       "<table border=\"1\" class=\"dataframe\">\n",
       "  <thead>\n",
       "    <tr style=\"text-align: right;\">\n",
       "      <th></th>\n",
       "      <th>AAPL</th>\n",
       "      <th>MSFT</th>\n",
       "    </tr>\n",
       "  </thead>\n",
       "  <tbody>\n",
       "    <tr>\n",
       "      <th>AAPL</th>\n",
       "      <td>0.080734</td>\n",
       "      <td>0.040709</td>\n",
       "    </tr>\n",
       "    <tr>\n",
       "      <th>MSFT</th>\n",
       "      <td>0.040709</td>\n",
       "      <td>0.068272</td>\n",
       "    </tr>\n",
       "  </tbody>\n",
       "</table>\n",
       "</div>"
      ],
      "text/plain": [
       "          AAPL      MSFT\n",
       "AAPL  0.080734  0.040709\n",
       "MSFT  0.040709  0.068272"
      ]
     },
     "execution_count": 31,
     "metadata": {},
     "output_type": "execute_result"
    }
   ],
   "source": [
    "cov_matrix_anual = sec_returns.cov()*250\n",
    "cov_matrix_anual"
   ]
  },
  {
   "cell_type": "code",
   "execution_count": 32,
   "id": "522b84c4-1235-4496-8792-8ee2a278455a",
   "metadata": {},
   "outputs": [
    {
     "data": {
      "text/html": [
       "<div>\n",
       "<style scoped>\n",
       "    .dataframe tbody tr th:only-of-type {\n",
       "        vertical-align: middle;\n",
       "    }\n",
       "\n",
       "    .dataframe tbody tr th {\n",
       "        vertical-align: top;\n",
       "    }\n",
       "\n",
       "    .dataframe thead th {\n",
       "        text-align: right;\n",
       "    }\n",
       "</style>\n",
       "<table border=\"1\" class=\"dataframe\">\n",
       "  <thead>\n",
       "    <tr style=\"text-align: right;\">\n",
       "      <th></th>\n",
       "      <th>AAPL</th>\n",
       "      <th>MSFT</th>\n",
       "    </tr>\n",
       "  </thead>\n",
       "  <tbody>\n",
       "    <tr>\n",
       "      <th>AAPL</th>\n",
       "      <td>1.000000</td>\n",
       "      <td>0.548325</td>\n",
       "    </tr>\n",
       "    <tr>\n",
       "      <th>MSFT</th>\n",
       "      <td>0.548325</td>\n",
       "      <td>1.000000</td>\n",
       "    </tr>\n",
       "  </tbody>\n",
       "</table>\n",
       "</div>"
      ],
      "text/plain": [
       "          AAPL      MSFT\n",
       "AAPL  1.000000  0.548325\n",
       "MSFT  0.548325  1.000000"
      ]
     },
     "execution_count": 32,
     "metadata": {},
     "output_type": "execute_result"
    }
   ],
   "source": [
    "corr_matrix= sec_returns.corr()\n",
    "corr_matrix"
   ]
  },
  {
   "cell_type": "code",
   "execution_count": 33,
   "id": "a01e15f6-f431-4c5a-854f-1a979ba9078d",
   "metadata": {},
   "outputs": [],
   "source": [
    "weights = np.array([0.5,0.5]) "
   ]
  },
  {
   "cell_type": "code",
   "execution_count": 34,
   "id": "d32e924a-6f71-4754-807a-54835b70ccfc",
   "metadata": {},
   "outputs": [
    {
     "data": {
      "text/plain": [
       "0.057606041171822116"
      ]
     },
     "execution_count": 34,
     "metadata": {},
     "output_type": "execute_result"
    }
   ],
   "source": [
    "varianciaport= np.dot(weights.T, np.dot(sec_returns.cov()*250, weights))\n",
    "varianciaport"
   ]
  },
  {
   "cell_type": "code",
   "execution_count": 35,
   "id": "cb0139b1-f7a5-41cc-9907-795ee7ac5165",
   "metadata": {},
   "outputs": [
    {
     "data": {
      "text/plain": [
       "0.24001258544464313"
      ]
     },
     "execution_count": 35,
     "metadata": {},
     "output_type": "execute_result"
    }
   ],
   "source": [
    "volatilidadeport= np.dot(weights.T, np.dot(sec_returns.cov()*250, weights))**0.5\n",
    "volatilidadeport"
   ]
  },
  {
   "cell_type": "code",
   "execution_count": 45,
   "id": "f09b7f8e-3f6e-4b4e-9bc9-73eb9f01f377",
   "metadata": {},
   "outputs": [
    {
     "name": "stdout",
     "output_type": "stream",
     "text": [
      "24.001 %\n"
     ]
    }
   ],
   "source": [
    "print (str(round(volatilidadeport, 5) * 100) + ' %')"
   ]
  }
 ],
 "metadata": {
  "kernelspec": {
   "display_name": "Python 3 (ipykernel)",
   "language": "python",
   "name": "python3"
  },
  "language_info": {
   "codemirror_mode": {
    "name": "ipython",
    "version": 3
   },
   "file_extension": ".py",
   "mimetype": "text/x-python",
   "name": "python",
   "nbconvert_exporter": "python",
   "pygments_lexer": "ipython3",
   "version": "3.9.7"
  }
 },
 "nbformat": 4,
 "nbformat_minor": 5
}
