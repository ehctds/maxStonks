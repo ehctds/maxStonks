{
 "cells": [
  {
   "cell_type": "code",
   "execution_count": 5,
   "id": "e8e066fd-306f-4580-bfb3-b08ac9006f6d",
   "metadata": {},
   "outputs": [],
   "source": [
    "import numpy as np\n",
    "import pandas as pd\n",
    "import matplotlib.pyplot as plt\n",
    "import pandas_datareader as wb\n",
    "import datetime as dt\n",
    "from sklearn.preprocessing import MinMaxScaler\n",
    "from tensorflow.keras.models import Sequential\n",
    "from tensorflow.keras.layers import Dense, Dropout, LSTM"
   ]
  },
  {
   "cell_type": "code",
   "execution_count": 6,
   "id": "c1e253fb-5842-4604-ba48-732cb04440a7",
   "metadata": {},
   "outputs": [
    {
     "name": "stdin",
     "output_type": "stream",
     "text": [
      "Por favor, coloque o ticket da empresa. FB\n"
     ]
    }
   ],
   "source": [
    "empresa = input(\"Por favor, coloque o ticket da empresa.\") "
   ]
  },
  {
   "cell_type": "code",
   "execution_count": 7,
   "id": "0763bcbb-f58e-4d3e-8552-2a1608fa85d5",
   "metadata": {},
   "outputs": [],
   "source": [
    "start = dt.datetime(2015,1,1)\n",
    "end= dt.datetime(2022,1,1)"
   ]
  },
  {
   "cell_type": "code",
   "execution_count": 9,
   "id": "d099fe2e-b9c2-4b53-8807-5f8dc10f9320",
   "metadata": {},
   "outputs": [],
   "source": [
    "data = wb.DataReader(empresa, 'yahoo', start, end)"
   ]
  },
  {
   "cell_type": "code",
   "execution_count": 12,
   "id": "49583a5b-77fd-463e-925d-d0d23e21e435",
   "metadata": {},
   "outputs": [],
   "source": [
    "scaler = MinMaxScaler(feature_range = (0,1))\n",
    "scaled_data= scaler.fit_transform(data['Adj Close'].values.reshape(-1,1))"
   ]
  },
  {
   "cell_type": "code",
   "execution_count": 13,
   "id": "367d06bf-e1f8-4910-8c19-8478ab8df241",
   "metadata": {},
   "outputs": [],
   "source": [
    "prediction_days = 90"
   ]
  },
  {
   "cell_type": "code",
   "execution_count": 15,
   "id": "5fd0389c-9f73-4467-8883-11e3a98bce27",
   "metadata": {},
   "outputs": [],
   "source": [
    "x_train = []\n",
    "y_train = []\n",
    "for x in range(prediction_days, len(scaled_data)):\n",
    "    x_train.append(scaled_data[x-prediction_days:x, 0])\n",
    "    y_train.append(scaled_data[x,0])"
   ]
  },
  {
   "cell_type": "code",
   "execution_count": 16,
   "id": "a200d6aa-47c4-4f54-80ea-147aef819393",
   "metadata": {},
   "outputs": [],
   "source": [
    "x_train, y_train = np.array(x_train), np.array(y_train)\n",
    "x_train = np.reshape(x_train, (x_train.shape[0], x_train.shape[1], 1))"
   ]
  },
  {
   "cell_type": "code",
   "execution_count": null,
   "id": "32433be2-d0a2-492d-9030-d9555e9c0138",
   "metadata": {},
   "outputs": [],
   "source": []
  }
 ],
 "metadata": {
  "kernelspec": {
   "display_name": "Python 3 (ipykernel)",
   "language": "python",
   "name": "python3"
  },
  "language_info": {
   "codemirror_mode": {
    "name": "ipython",
    "version": 3
   },
   "file_extension": ".py",
   "mimetype": "text/x-python",
   "name": "python",
   "nbconvert_exporter": "python",
   "pygments_lexer": "ipython3",
   "version": "3.9.7"
  }
 },
 "nbformat": 4,
 "nbformat_minor": 5
}
